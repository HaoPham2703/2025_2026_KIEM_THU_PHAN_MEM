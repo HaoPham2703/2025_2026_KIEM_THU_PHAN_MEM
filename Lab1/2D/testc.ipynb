{
 "cells": [
  {
   "cell_type": "code",
   "execution_count": 1,
   "id": "a8f2f725",
   "metadata": {},
   "outputs": [],
   "source": [
    "!g++ baid.cpp -o baid"
   ]
  },
  {
   "cell_type": "code",
   "execution_count": 2,
   "id": "826bd443",
   "metadata": {},
   "outputs": [
    {
     "name": "stdout",
     "output_type": "stream",
     "text": [
      "10\n"
     ]
    }
   ],
   "source": [
    "!./baid 5  # Chỉ cần 1 test-case là đủ để kiểm thử đúng hàm này."
   ]
  }
 ],
 "metadata": {
  "kernelspec": {
   "display_name": "Python 3",
   "language": "python",
   "name": "python3"
  },
  "language_info": {
   "codemirror_mode": {
    "name": "ipython",
    "version": 3
   },
   "file_extension": ".py",
   "mimetype": "text/x-python",
   "name": "python",
   "nbconvert_exporter": "python",
   "pygments_lexer": "ipython3",
   "version": "3.12.1"
  }
 },
 "nbformat": 4,
 "nbformat_minor": 5
}
