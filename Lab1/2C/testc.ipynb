{
 "cells": [
  {
   "cell_type": "code",
   "execution_count": 1,
   "id": "b199664c",
   "metadata": {},
   "outputs": [],
   "source": [
    "!g++ baic.cpp -o baic"
   ]
  },
  {
   "cell_type": "code",
   "execution_count": 2,
   "id": "295837ea",
   "metadata": {},
   "outputs": [
    {
     "name": "stdout",
     "output_type": "stream",
     "text": [
      "10\n",
      "30\n"
     ]
    }
   ],
   "source": [
    "!./baic 5   # test với x < 10\n",
    "!./baic 15   # test với x >= 10"
   ]
  }
 ],
 "metadata": {
  "kernelspec": {
   "display_name": "Python 3",
   "language": "python",
   "name": "python3"
  },
  "language_info": {
   "codemirror_mode": {
    "name": "ipython",
    "version": 3
   },
   "file_extension": ".py",
   "mimetype": "text/x-python",
   "name": "python",
   "nbconvert_exporter": "python",
   "pygments_lexer": "ipython3",
   "version": "3.12.1"
  }
 },
 "nbformat": 4,
 "nbformat_minor": 5
}
