{
 "cells": [
  {
   "cell_type": "code",
   "execution_count": 2,
   "id": "130ad65f",
   "metadata": {},
   "outputs": [
    {
     "name": "stdout",
     "output_type": "stream",
     "text": [
      "30\n",
      "5\n",
      "-10\n"
     ]
    }
   ],
   "source": [
    "!g++ baia.cpp -o baia\n",
    "!echo 15 | ./baia #Test case 1: x > 10\n",
    "!echo -5 | ./baia   #Test case 2: x <= 10\n",
    "!echo 10 | ./baia # Test case 3 (test case ranh giới): x = 10\n",
    "\n"
   ]
  }
 ],
 "metadata": {
  "kernelspec": {
   "display_name": "Python 3",
   "language": "python",
   "name": "python3"
  },
  "language_info": {
   "codemirror_mode": {
    "name": "ipython",
    "version": 3
   },
   "file_extension": ".py",
   "mimetype": "text/x-python",
   "name": "python",
   "nbconvert_exporter": "python",
   "pygments_lexer": "ipython3",
   "version": "3.12.1"
  }
 },
 "nbformat": 4,
 "nbformat_minor": 5
}
