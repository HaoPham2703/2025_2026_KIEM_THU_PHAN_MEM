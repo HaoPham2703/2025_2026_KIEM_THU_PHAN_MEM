{
 "cells": [
  {
   "cell_type": "code",
   "execution_count": 1,
   "id": "941454f9",
   "metadata": {},
   "outputs": [],
   "source": [
    "!g++ baie.cpp -o baie"
   ]
  },
  {
   "cell_type": "code",
   "execution_count": null,
   "id": "9c736a20",
   "metadata": {},
   "outputs": [
    {
     "name": "stdout",
     "output_type": "stream",
     "text": [
      "So lon nhat la: 10\n"
     ]
    }
   ],
   "source": [
    "!./baie 10 5 2 # Test case 1 – num1 lớn nhất"
   ]
  },
  {
   "cell_type": "code",
   "execution_count": 8,
   "id": "02404fe0",
   "metadata": {},
   "outputs": [
    {
     "name": "stdout",
     "output_type": "stream",
     "text": [
      "So lon nhat la: 9\n"
     ]
    },
    {
     "name": "stdout",
     "output_type": "stream",
     "text": [
      "So lon nhat la: 12\n",
      "So lon nhat la: 0\n"
     ]
    }
   ],
   "source": [
    "!./baie 4 9 7 # Test case 2 – num2 lớn nhất\n",
    "!./baie 1 6 12 # Test case 3 – num3 lớn nhất\n",
    "!./baie 5 5 3 # Test case 4 – 2 số bằng nhau (lỗi)\n"
   ]
  }
 ],
 "metadata": {
  "kernelspec": {
   "display_name": "Python 3",
   "language": "python",
   "name": "python3"
  },
  "language_info": {
   "codemirror_mode": {
    "name": "ipython",
    "version": 3
   },
   "file_extension": ".py",
   "mimetype": "text/x-python",
   "name": "python",
   "nbconvert_exporter": "python",
   "pygments_lexer": "ipython3",
   "version": "3.12.1"
  }
 },
 "nbformat": 4,
 "nbformat_minor": 5
}
